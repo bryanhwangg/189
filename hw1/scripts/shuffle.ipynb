{
 "cells": [
  {
   "cell_type": "code",
   "execution_count": 4,
   "metadata": {},
   "outputs": [],
   "source": [
    "import numpy as np"
   ]
  },
  {
   "cell_type": "code",
   "execution_count": 22,
   "metadata": {},
   "outputs": [],
   "source": [
    "mnist_full_data = np.load(\"../data/mnist-data.npz\")\n",
    "spam_full_data = np.load(\"../data/spam-data.npz\")"
   ]
  },
  {
   "cell_type": "code",
   "execution_count": 42,
   "metadata": {},
   "outputs": [],
   "source": [
    "# Set random seed for reproducibility\n",
    "np.random.seed(189)"
   ]
  },
  {
   "cell_type": "code",
   "execution_count": 40,
   "metadata": {},
   "outputs": [],
   "source": [
    "# Extract subsets of data that we need\n",
    "mnist_training_data, spam_training_data = mnist_full_data['training_data'], spam_full_data['training_data']\n",
    "mnist_data_labels, spam_data_labels = mnist_full_data['training_labels'], spam_full_data['training_labels']"
   ]
  },
  {
   "cell_type": "code",
   "execution_count": 77,
   "metadata": {},
   "outputs": [],
   "source": [
    "# Reshape and flatten our 28x28 matrix representation of each MNIST image into a vector\n",
    "# mnist_training_data_2d shape = (60,000, 784)\n",
    "# spam_training_data_2d shape = (4171, 32)\n",
    "mnist_training_data_2d, spam_training_data_2d = mnist_training_data.reshape(mnist_training_data.shape[0], -1), spam_training_data.reshape(spam_training_data.shape[0], -1)"
   ]
  },
  {
   "cell_type": "code",
   "execution_count": 78,
   "metadata": {},
   "outputs": [],
   "source": [
    "# Join the 2d data together with given labels\n",
    "# mnist_training_data_2d shape = (60,000, 785)\n",
    "# spam_training_data_2d shape = (4171, 33)\n",
    "mnist_training_data_2d = np.column_stack((mnist_training_data_2d, mnist_data_labels))\n",
    "spam_training_data_2d = np.column_stack((spam_training_data_2d, spam_data_labels))"
   ]
  },
  {
   "cell_type": "code",
   "execution_count": 79,
   "metadata": {},
   "outputs": [],
   "source": [
    "# Shuffle joined data randomly\n",
    "np.random.shuffle(mnist_training_data_2d)\n",
    "np.random.shuffle(spam_training_data_2d)"
   ]
  },
  {
   "cell_type": "code",
   "execution_count": 84,
   "metadata": {},
   "outputs": [],
   "source": [
    "MNIST_DATA_LENGTH = 60000\n",
    "def split_and_write_data(data: np.ndarray, training_percent = 0.0, training_amount = 0):\n",
    "    \"\"\" Splits 2d numPy array into training and testing data based on a given training amount (int) OR training percentage (float) \"\"\"\n",
    "    data_length = data.shape[0]\n",
    "    if training_percent:\n",
    "        index = int(data_length * training_percent)\n",
    "        training_data = data[:index]\n",
    "        testing_data = data[index:]\n",
    "    else:\n",
    "        training_data = data[:training_amount]\n",
    "        testing_data = data[training_amount:]\n",
    "    training_data_labels, testing_data_labels = training_data[:, -1], testing_data[:, -1]\n",
    "    training_data, testing_data = training_data[:, :-1], testing_data[:, :-1]\n",
    "\n",
    "    data_name = \"spam\"\n",
    "    if data_length == MNIST_DATA_LENGTH:\n",
    "        data_name = \"mnist\"\n",
    "    \n",
    "    np.save(f\"../data/{data_name}_training_data.npy\", training_data)\n",
    "    np.save(f\"../data/{data_name}_training_data_labels.npy\", training_data_labels)\n",
    "\n",
    "    np.save(f\"../data/{data_name}_testing_data.npy\", testing_data)\n",
    "    np.save(f\"../data/{data_name}_testing_data_labels.npy\", testing_data_labels)"
   ]
  },
  {
   "cell_type": "code",
   "execution_count": 83,
   "metadata": {},
   "outputs": [],
   "source": [
    "split_and_write_data(mnist_training_data_2d, training_amount=10000)\n",
    "split_and_write_data(spam_training_data_2d, training_percent=0.2)"
   ]
  }
 ],
 "metadata": {
  "kernelspec": {
   "display_name": "189",
   "language": "python",
   "name": "python3"
  },
  "language_info": {
   "codemirror_mode": {
    "name": "ipython",
    "version": 3
   },
   "file_extension": ".py",
   "mimetype": "text/x-python",
   "name": "python",
   "nbconvert_exporter": "python",
   "pygments_lexer": "ipython3",
   "version": "3.13.1"
  }
 },
 "nbformat": 4,
 "nbformat_minor": 2
}
