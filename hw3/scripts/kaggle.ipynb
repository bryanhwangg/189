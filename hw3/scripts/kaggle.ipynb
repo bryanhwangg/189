{
 "cells": [
  {
   "cell_type": "code",
   "execution_count": 77,
   "metadata": {},
   "outputs": [],
   "source": [
    "import numpy as np\n",
    "import scipy\n",
    "from save_csv import results_to_csv\n",
    "from sklearn.model_selection import train_test_split\n",
    "from sklearn.metrics import accuracy_score\n",
    "import matplotlib.pyplot as plt"
   ]
  },
  {
   "cell_type": "code",
   "execution_count": 78,
   "metadata": {},
   "outputs": [],
   "source": [
    "class QDA:\n",
    "    def __init__(self, data):\n",
    "        self.gausses = []\n",
    "        for label in np.unique(data[:, -1]):\n",
    "            subset = data[data[:, -1] == label]\n",
    "            subset = subset[:, 0:-1]\n",
    "            gauss = MLEGaussian(subset=subset, label=label, data_len=len(data))\n",
    "            self.gausses.append(gauss)\n",
    "        \n",
    "    def predict(self, X):\n",
    "        # matrix to store discriminant scores for each sample and class so we can vectorize prediction\n",
    "        scores = np.zeros((X.shape[0], len(self.gausses)))\n",
    "        \n",
    "        for digit, gauss in enumerate(self.gausses):\n",
    "            mu = gauss.mu\n",
    "            pi_c = gauss.pi_c\n",
    "            cov_matrix = gauss.cov_matrix\n",
    "\n",
    "            score = scipy.stats.multivariate_normal.logpdf(X, allow_singular=True, cov=cov_matrix, mean=mu)\n",
    "            + np.log(pi_c)\n",
    "            scores[:, digit] = score\n",
    "\n",
    "            \n",
    "        return np.argmax(scores, axis=1)\n",
    "\n",
    "class MLEGaussian:\n",
    "    def __init__(self, subset, label, data_len):\n",
    "        self.subset = subset\n",
    "        self.label = label\n",
    "        self.pi_c = len(subset) / data_len\n",
    "        \n",
    "        # find mean vector and covariance matrix\n",
    "        self.mu = np.mean(self.subset, axis=0)\n",
    "        self.cov_matrix = np.cov(self.subset, rowvar=False)\n",
    "        self.var = np.var(self.subset)\n",
    "        \n",
    "        # add regularization term to covariance matrix\n",
    "        regularization_term = 1e-3 * np.eye(self.cov_matrix.shape[0])\n",
    "        self.cov_matrix += regularization_term\n"
   ]
  },
  {
   "cell_type": "code",
   "execution_count": 83,
   "metadata": {},
   "outputs": [],
   "source": [
    "np.random.seed(189)\n",
    "full_data = np.load(\"../data/spam-data-hw3.npz\")\n",
    "training_data = full_data[\"training_data\"]\n",
    "training_labels = full_data[\"training_labels\"]\n",
    "X_train, X_test, y_train, y_test = train_test_split(training_data, training_labels, test_size=0.2, random_state=189)"
   ]
  },
  {
   "cell_type": "code",
   "execution_count": 84,
   "metadata": {},
   "outputs": [],
   "source": [
    "joined_train = np.column_stack((X_train, y_train))\n",
    "spam_test = full_data[\"test_data\"]\n",
    "qda = QDA(joined_train)\n",
    "predictions = qda.predict(spam_test)\n",
    "# accuracy_score(y_test, predictions)"
   ]
  },
  {
   "cell_type": "code",
   "execution_count": 85,
   "metadata": {},
   "outputs": [],
   "source": [
    "results_to_csv(predictions, \"spampredictions.csv\")"
   ]
  },
  {
   "cell_type": "code",
   "execution_count": 82,
   "metadata": {},
   "outputs": [
    {
     "data": {
      "text/plain": [
       "['training_data', 'training_labels', 'test_data']"
      ]
     },
     "execution_count": 82,
     "metadata": {},
     "output_type": "execute_result"
    }
   ],
   "source": [
    "full_data.files"
   ]
  },
  {
   "cell_type": "code",
   "execution_count": null,
   "metadata": {},
   "outputs": [],
   "source": [
    "class LDA:\n",
    "    def __init__(self, data):\n",
    "        self.gausses = []\n",
    "        for label in np.unique(data[:, -1]):\n",
    "            subset = data[data[:, -1] == label]\n",
    "            subset = subset[:, 0:-1]\n",
    "            gauss = MLEGaussian(subset=subset, data_len=len(data), label=label)\n",
    "            self.gausses.append(gauss)\n",
    "        \n",
    "        # calculate pooled covariance matrix\n",
    "        pooled_cov_matrix = np.zeros((data.shape[1] - 1, data.shape[1] - 1))\n",
    "        for gauss in self.gausses:\n",
    "            subpool = (len(gauss.subset) - 1) * gauss.cov_matrix\n",
    "            pooled_cov_matrix = pooled_cov_matrix + subpool\n",
    "        pooled_cov_matrix = pooled_cov_matrix / (len(data) - 10)\n",
    "        \n",
    "        # add regularization term so matrix is invertible\n",
    "        regularization_term = 1e-5 * np.eye(pooled_cov_matrix.shape[0])\n",
    "        self.pooled_cov_matrix = pooled_cov_matrix + regularization_term\n",
    "        \n",
    "    def predict(self, X):\n",
    "        if X.shape[1] == 785:\n",
    "            X = X[:, 0:-1] \n",
    "            \n",
    "        # matrix to store discriminant scores for each sample and class so we can vectorize prediction\n",
    "        scores = np.zeros((X.shape[0], len(self.gausses)))\n",
    "        \n",
    "        for digit, gauss in enumerate(self.gausses):\n",
    "            mu = gauss.mu\n",
    "            pi_c = gauss.pi_c\n",
    "            \n",
    "            score = scipy.stats.multivariate_normal.logpdf(X, allow_singular=True, cov=self.pooled_cov_matrix, mean=mu)+ np.log(pi_c)\n",
    "\n",
    "            scores[:, digit] = score\n",
    "            \n",
    "        return np.argmax(scores, axis=1)"
   ]
  },
  {
   "cell_type": "code",
   "execution_count": 98,
   "metadata": {},
   "outputs": [],
   "source": [
    "lda = LDA(joined_train)\n",
    "predictions = lda.predict(X_test)\n",
    "accuracy_score(predictions, y_test)\n",
    "predictions = lda.predict(spam_test)\n",
    "results_to_csv(predictions, \"ldaspampredictions.csv\")\n"
   ]
  },
  {
   "cell_type": "code",
   "execution_count": null,
   "metadata": {},
   "outputs": [],
   "source": []
  }
 ],
 "metadata": {
  "kernelspec": {
   "display_name": "189",
   "language": "python",
   "name": "python3"
  },
  "language_info": {
   "codemirror_mode": {
    "name": "ipython",
    "version": 3
   },
   "file_extension": ".py",
   "mimetype": "text/x-python",
   "name": "python",
   "nbconvert_exporter": "python",
   "pygments_lexer": "ipython3",
   "version": "3.13.1"
  }
 },
 "nbformat": 4,
 "nbformat_minor": 2
}
